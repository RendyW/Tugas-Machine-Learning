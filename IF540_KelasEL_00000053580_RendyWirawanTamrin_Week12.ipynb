{
 "cells": [
  {
   "attachments": {},
   "cell_type": "markdown",
   "id": "aea691db",
   "metadata": {},
   "source": [
    "## <div align=\"center\"> TUGAS LAB IF540 MACHINE LEARNING </div>\n",
    "### <div align=\"center\"> WEEK 12 : Reinforcement Learning </div>\n",
    "\n",
    "#### <div align=\"center\"> Semester Genap 2022/2023 </div>"
   ]
  },
  {
   "cell_type": "code",
   "execution_count": 1,
   "id": "6704ffa6",
   "metadata": {},
   "outputs": [],
   "source": [
    "import datetime\n",
    "import uuid\n",
    "\n",
    "myName = \"Rendy Wirawan Tamrin\"\n",
    "myNIM = \"00000053580\""
   ]
  },
  {
   "cell_type": "code",
   "execution_count": 2,
   "id": "ad81e0ee",
   "metadata": {},
   "outputs": [
    {
     "name": "stdout",
     "output_type": "stream",
     "text": [
      "Name: \t\tRendy Wirawan Tamrin\n",
      "NIM: \t\t00000053580\n",
      "Start: \t\t2023-05-24 00:13:06.378752\n",
      "Device ID: \t15710801-f98d-11ed-99b5-088fc3234331\n"
     ]
    }
   ],
   "source": [
    "myDate = datetime.datetime.now()\n",
    "myDevice = str(uuid.uuid1())\n",
    "\n",
    "print(\"Name: \\t\\t{}\".format(myName))\n",
    "print(\"NIM: \\t\\t{}\".format(myNIM))\n",
    "print(\"Start: \\t\\t{}\".format(myDate))\n",
    "print(\"Device ID: \\t{}\".format(myDevice))"
   ]
  },
  {
   "attachments": {},
   "cell_type": "markdown",
   "id": "ce3f5e6e",
   "metadata": {},
   "source": [
    "\n",
    "---\n",
    "\n",
    "### Dataset yang dipakai:\n",
    "\n",
    "1. [Nama dataset1] – sumber : [cantumkan link dataset1]\n",
    "2. [Nama dataset2] – sumber : [cantumkan link dataset2]\n",
    "\n",
    "---\n",
    "\n",
    "### Hasil kerja"
   ]
  },
  {
   "attachments": {},
   "cell_type": "markdown",
   "id": "045ceb51",
   "metadata": {},
   "source": [
    "#### Importing library"
   ]
  },
  {
   "cell_type": "code",
   "execution_count": 2,
   "id": "07297866",
   "metadata": {},
   "outputs": [],
   "source": [
    "import gym\n",
    "import itertools\n",
    "import matplotlib\n",
    "import matplotlib.style\n",
    "import numpy as np\n",
    "import pandas as pd\n",
    "import sys"
   ]
  },
  {
   "cell_type": "code",
   "execution_count": 3,
   "id": "7a12d616",
   "metadata": {},
   "outputs": [],
   "source": [
    "from collections import defaultdict\n",
    "from windy_gridworld import WindyGridworldEnv\n",
    "import plotting\n",
    "\n",
    "matplotlib.style.use('ggplot')"
   ]
  },
  {
   "attachments": {},
   "cell_type": "markdown",
   "id": "97f0fe16",
   "metadata": {},
   "source": [
    "#### Create gym environment"
   ]
  },
  {
   "cell_type": "code",
   "execution_count": 4,
   "id": "02f63cf7",
   "metadata": {},
   "outputs": [],
   "source": [
    "env = WindyGridworldEnv()"
   ]
  },
  {
   "attachments": {},
   "cell_type": "markdown",
   "id": "ec9c90ef",
   "metadata": {},
   "source": [
    "#### Make the greedy policy"
   ]
  },
  {
   "cell_type": "code",
   "execution_count": 5,
   "id": "e20e6868",
   "metadata": {},
   "outputs": [],
   "source": [
    "def createEpsilonGreedyPolicy(Q, epsilon, num_actions):\n",
    "    def policyFunction(state):\n",
    "        \n",
    "        Action_probabilities = np.ones(num_actions,\n",
    "                dtype = float) * epsilon / num_actions\n",
    "        \n",
    "        best_action = np.argmax(Q[state])\n",
    "        Action_probabilities[best_action] += (1.0 - epsilon)\n",
    "        return Action_probabilities\n",
    "    \n",
    "    return policyFunction"
   ]
  },
  {
   "attachments": {},
   "cell_type": "markdown",
   "id": "7bfe54bd",
   "metadata": {},
   "source": [
    "#### Build Q-learning model"
   ]
  },
  {
   "cell_type": "code",
   "execution_count": 6,
   "id": "f7d0a08b",
   "metadata": {},
   "outputs": [],
   "source": [
    "def qLearning(env, num_episodes, discount_factor = 1.0,\n",
    "             alpha = 0.6, epsilon = 0.1):\n",
    "    \n",
    "    Q = defaultdict(lambda: np.zeros(env.action_space.n))\n",
    "    stats = plotting.EpisodeStats(\n",
    "    episode_lengths = np.zeros(num_episodes),\n",
    "    episode_rewards = np.zeros(num_episodes))\n",
    "    policy = createEpsilonGreedyPolicy(Q, epsilon, env.action_space.n)\n",
    "\n",
    "    for ith_episode in range(num_episodes):\n",
    "        state = env.reset()\n",
    "\n",
    "        for t in itertools.count():\n",
    "            action_probabilities = policy(state)\n",
    "            action = np.random.choice(np.arange(\n",
    "            len(action_probabilities)),\n",
    "            p = action_probabilities)\n",
    "\n",
    "            next_state, reward, done, _ = env.step(action)\n",
    "            stats.episode_rewards[ith_episode] += reward\n",
    "            stats.episode_lengths[ith_episode] = t\n",
    "            \n",
    "            best_next_action = np.argmax(Q[next_state])\n",
    "            td_target = reward + discount_factor * Q[next_state][best_next_action]\n",
    "            td_delta = td_target - Q[state][action]\n",
    "            Q[state][action] += alpha * td_delta\n",
    "            \n",
    "            if done:\n",
    "                break\n",
    "            \n",
    "            state = next_state\n",
    "        \n",
    "    return Q, stats      "
   ]
  },
  {
   "attachments": {},
   "cell_type": "markdown",
   "id": "1f118fdc",
   "metadata": {},
   "source": [
    "#### Train the model"
   ]
  },
  {
   "cell_type": "code",
   "execution_count": 7,
   "id": "73717232",
   "metadata": {},
   "outputs": [],
   "source": [
    "Q, stats = qLearning(env, 1000)"
   ]
  },
  {
   "attachments": {},
   "cell_type": "markdown",
   "id": "15f94fd5",
   "metadata": {},
   "source": [
    "#### Plot important statistics"
   ]
  },
  {
   "cell_type": "code",
   "execution_count": 8,
   "id": "ef2c4a0a",
   "metadata": {},
   "outputs": [
    {
     "data": {
      "image/png": "[encoded data removed]",
      "text/plain": [
       "<Figure size 720x360 with 1 Axes>"
      ]
     },
     "metadata": {
      "needs_background": "light"
     },
     "output_type": "display_data"
    },
    {
     "data": {
      "image/png": "[encoded data removed]",
      "text/plain": [
       "<Figure size 720x360 with 1 Axes>"
      ]
     },
     "metadata": {
      "needs_background": "light"
     },
     "output_type": "display_data"
    },
    {
     "data": {
      "image/png": "[encoded data removed]",
      "text/plain": [
       "<Figure size 720x360 with 1 Axes>"
      ]
     },
     "metadata": {
      "needs_background": "light"
     },
     "output_type": "display_data"
    },
    {
     "data": {
      "text/plain": [
       "(<Figure size 720x360 with 1 Axes>,\n",
       " <Figure size 720x360 with 1 Axes>,\n",
       " <Figure size 720x360 with 1 Axes>)"
      ]
     },
     "execution_count": 8,
     "metadata": {},
     "output_type": "execute_result"
    }
   ],
   "source": [
    "plotting.plot_episode_stats(stats)"
   ]
  },
  {
   "attachments": {},
   "cell_type": "markdown",
   "id": "8b4fa886",
   "metadata": {},
   "source": [
    "#### Importing the required libraries"
   ]
  },
  {
   "cell_type": "code",
   "execution_count": 9,
   "id": "74613770",
   "metadata": {},
   "outputs": [],
   "source": [
    "import pylab as pl\n",
    "import networkx as nx"
   ]
  },
  {
   "attachments": {},
   "cell_type": "markdown",
   "id": "06734df8",
   "metadata": {},
   "source": [
    "#### Defining and visualizing the graph"
   ]
  },
  {
   "cell_type": "code",
   "execution_count": 10,
   "id": "6213ecfe",
   "metadata": {},
   "outputs": [],
   "source": [
    "edges = [(0, 1), (1, 5), (5, 6), (5, 4), (1, 2),\n",
    "        (1, 3), (9, 10), (2, 4), (0, 6), (6, 7),\n",
    "        (8, 9), (7, 8), (1, 7), (3, 9)]"
   ]
  },
  {
   "cell_type": "code",
   "execution_count": 11,
   "id": "f7d7ad86",
   "metadata": {},
   "outputs": [
    {
     "data": {
      "image/png": "[encoded data removed]",
      "text/plain": [
       "<Figure size 432x288 with 1 Axes>"
      ]
     },
     "metadata": {},
     "output_type": "display_data"
    }
   ],
   "source": [
    "goal = 10\n",
    "G = nx.Graph()\n",
    "G.add_edges_from(edges)\n",
    "pos = nx.spring_layout(G)\n",
    "nx.draw_networkx_nodes(G, pos)\n",
    "nx.draw_networkx_edges(G, pos)\n",
    "nx.draw_networkx_labels(G, pos)\n",
    "pl.show()"
   ]
  },
  {
   "attachments": {},
   "cell_type": "markdown",
   "id": "bc6ec7ac",
   "metadata": {},
   "source": [
    "#### Defining the reward the system for the bot "
   ]
  },
  {
   "cell_type": "code",
   "execution_count": 12,
   "id": "a0831105",
   "metadata": {},
   "outputs": [
    {
     "name": "stdout",
     "output_type": "stream",
     "text": [
      "(0, 1)\n",
      "(1, 5)\n",
      "(5, 6)\n",
      "(5, 4)\n",
      "(1, 2)\n",
      "(1, 3)\n",
      "(9, 10)\n",
      "(2, 4)\n",
      "(0, 6)\n",
      "(6, 7)\n",
      "(8, 9)\n",
      "(7, 8)\n",
      "(1, 7)\n",
      "(3, 9)\n",
      "[[  0.   0.   0.   0.   0.   0.   0.   0.   0.   0.   0.]\n",
      " [  0.   0.   0.   0.   0.   0.   0.   0.   0.   0.   0.]\n",
      " [  0.   0.   0.   0.   0.   0.   0.   0.   0.   0.   0.]\n",
      " [  0.   0.   0.   0.   0.   0.   0.   0.   0.   0.   0.]\n",
      " [  0.   0.   0.   0.   0.   0.   0.   0.   0.   0.   0.]\n",
      " [  0.   0.   0.   0.   0.   0.   0.   0.   0.   0.   0.]\n",
      " [  0.   0.   0.   0.   0.   0.   0.   0.   0.   0.   0.]\n",
      " [  0.   0.   0.   0.   0.   0.   0.   0.   0.   0.   0.]\n",
      " [  0.   0.   0.   0.   0.   0.   0.   0.   0.   0.   0.]\n",
      " [  0.   0.   0.   0.   0.   0.   0.   0.   0.   0. 100.]\n",
      " [  0.   0.   0.   0.   0.   0.   0.   0.   0.   0. 100.]]\n"
     ]
    }
   ],
   "source": [
    "MATRIX_SIZE = 11\n",
    "M = np.matrix(np.ones(shape = (MATRIX_SIZE, MATRIX_SIZE)))\n",
    "M += -1\n",
    "\n",
    "for point in edges:\n",
    "    print(point)\n",
    "    if point[1] == goal:\n",
    "        M[point] = 100\n",
    "    else:\n",
    "        M[point] = 0\n",
    "    \n",
    "    if point[0] == goal:\n",
    "        M[point[::-1]] = 100\n",
    "    else:\n",
    "        M[point[::-1]] = 0\n",
    "    \n",
    "M[goal, goal] = 100\n",
    "print(M)"
   ]
  },
  {
   "attachments": {},
   "cell_type": "markdown",
   "id": "d79d1ae1",
   "metadata": {},
   "source": [
    "#### Defining some utility functions to be used in the training "
   ]
  },
  {
   "cell_type": "code",
   "execution_count": 13,
   "id": "149ae96a",
   "metadata": {},
   "outputs": [],
   "source": [
    "Q = np.matrix(np.zeros([MATRIX_SIZE, MATRIX_SIZE]))\n",
    "\n",
    "gamma = 0.75\n",
    "initial_state = 1"
   ]
  },
  {
   "attachments": {},
   "cell_type": "markdown",
   "id": "b5cab77e",
   "metadata": {},
   "source": [
    "#### Determines the available action for a given state"
   ]
  },
  {
   "cell_type": "code",
   "execution_count": 14,
   "id": "164131fa",
   "metadata": {},
   "outputs": [],
   "source": [
    "def available_actions(state):\n",
    "    current_state_row = M[state, ]\n",
    "    available_action = np.where(current_state_row >= 0)[1]\n",
    "    return available_action\n",
    "\n",
    "available_action = available_actions(initial_state)"
   ]
  },
  {
   "attachments": {},
   "cell_type": "markdown",
   "id": "97156cba",
   "metadata": {},
   "source": [
    "#### Choose one of the available actions at random"
   ]
  },
  {
   "cell_type": "code",
   "execution_count": 15,
   "id": "3f0f2d9d",
   "metadata": {},
   "outputs": [],
   "source": [
    "def sample_next_action(available_actions_range):\n",
    "    next_action = int(np.random.choice(available_action, 1))\n",
    "    return next_action\n",
    "\n",
    "action = sample_next_action(available_action)"
   ]
  },
  {
   "attachments": {},
   "cell_type": "markdown",
   "id": "0678d56a",
   "metadata": {},
   "source": [
    "#### Updating"
   ]
  },
  {
   "cell_type": "code",
   "execution_count": 16,
   "id": "0ca8fb53",
   "metadata": {},
   "outputs": [],
   "source": [
    "def update(current_state, action, gamma):\n",
    "    \n",
    "    max_index = np.where(Q[action, ] == np.max(Q[action, ]))[1]\n",
    "    if max_index.shape[0] > 1:\n",
    "        max_index = int(np.random.choice(max_index, size = 1))\n",
    "    else:\n",
    "        max_index = int(max_index)\n",
    "    max_value = Q[action, max_index]\n",
    "    Q[current_state, action] = M[current_state, action] + gamma * max_value\n",
    "    if (np.max(Q) > 0):\n",
    "        return(np.sum(Q / np.max(Q)*100))\n",
    "    else:\n",
    "        return(0)"
   ]
  },
  {
   "cell_type": "code",
   "execution_count": 17,
   "id": "09bd9292",
   "metadata": {},
   "outputs": [
    {
     "data": {
      "text/plain": [
       "0"
      ]
     },
     "execution_count": 17,
     "metadata": {},
     "output_type": "execute_result"
    }
   ],
   "source": [
    "update(initial_state, action, gamma)"
   ]
  },
  {
   "attachments": {},
   "cell_type": "markdown",
   "id": "1c27ef61",
   "metadata": {},
   "source": [
    "#### Training and evaluating the bot using the Q-Matrix "
   ]
  },
  {
   "cell_type": "code",
   "execution_count": 18,
   "id": "ab6162cb",
   "metadata": {},
   "outputs": [],
   "source": [
    "scores = []\n",
    "for i in range(1000):\n",
    "    current_state = np.random.randint(0, int(Q.shape[0]))\n",
    "    available_action = available_actions(current_state)\n",
    "    action = sample_next_action(available_action)\n",
    "    score = update(current_state, action, gamma)\n",
    "    scores.append(score)"
   ]
  },
  {
   "cell_type": "code",
   "execution_count": 19,
   "id": "87a48158",
   "metadata": {},
   "outputs": [
    {
     "name": "stdout",
     "output_type": "stream",
     "text": [
      "Most efficient path:\n",
      "[0, 9, 10]\n"
     ]
    },
    {
     "data": {
      "image/png": "[encoded data removed]",
      "text/plain": [
       "<Figure size 432x288 with 1 Axes>"
      ]
     },
     "metadata": {
      "needs_background": "light"
     },
     "output_type": "display_data"
    }
   ],
   "source": [
    "# Testing\n",
    "current_state = 0\n",
    "steps = [current_state]\n",
    "\n",
    "while current_state != 10:\n",
    "    \n",
    "    next_step_index = np.where(Q[current_state, ] == np.max(Q[current_state, ]))[1]\n",
    "    if next_step_index.shape[0] > 1:\n",
    "        next_step_index = int(np.random.choice(next_step_index, size = 1))\n",
    "    else:\n",
    "        next_step_index = int(next_step_index)\n",
    "    steps.append(next_step_index)\n",
    "    current_state = next_step_index\n",
    "    \n",
    "print(\"Most efficient path:\")\n",
    "print(steps)\n",
    "\n",
    "pl.plot(scores)\n",
    "pl.xlabel(\"No of iterations\")\n",
    "pl.ylabel(\"Reward gained\")\n",
    "pl.show()"
   ]
  },
  {
   "attachments": {},
   "cell_type": "markdown",
   "id": "501e95ce",
   "metadata": {},
   "source": [
    "#### Defining and visualizing the new graph with the environment clues"
   ]
  },
  {
   "cell_type": "code",
   "execution_count": 20,
   "id": "2f456e76",
   "metadata": {},
   "outputs": [
    {
     "data": {
      "image/png": "[encoded data removed]",
      "text/plain": [
       "<Figure size 432x288 with 1 Axes>"
      ]
     },
     "metadata": {},
     "output_type": "display_data"
    }
   ],
   "source": [
    "police = [2, 4, 5]\n",
    "drug_traces = [3, 8, 9]\n",
    "\n",
    "G = nx.Graph()\n",
    "G.add_edges_from(edges)\n",
    "mapping = {0:'0 - Detective', 1:'1', 2:'2 - Police', 3:'3 = Drug traces',\n",
    "          4:'4 - Police', 5:'5 - Police', 6:'6', 7:'7', 8:'Drug traces',\n",
    "          9:'9 - Drug traces', 10:'10 - Drug racket location'}\n",
    "\n",
    "H = nx.relabel_nodes(G, mapping)\n",
    "pos = nx.spring_layout(H)\n",
    "nx.draw_networkx_nodes(H, pos)\n",
    "nx.draw_networkx_edges(H, pos)\n",
    "nx.draw_networkx_labels(H, pos)\n",
    "pl.show()"
   ]
  },
  {
   "attachments": {},
   "cell_type": "markdown",
   "id": "fab6bf46",
   "metadata": {},
   "source": [
    "#### Defining some utility functions for the training process"
   ]
  },
  {
   "cell_type": "code",
   "execution_count": 21,
   "id": "850448b9",
   "metadata": {},
   "outputs": [],
   "source": [
    "Q = np.matrix(np.zeros([MATRIX_SIZE, MATRIX_SIZE]))\n",
    "env_police = np.matrix(np.zeros([MATRIX_SIZE, MATRIX_SIZE]))\n",
    "env_drugs = np.matrix(np.zeros([MATRIX_SIZE, MATRIX_SIZE]))\n",
    "initial_state = 1"
   ]
  },
  {
   "cell_type": "code",
   "execution_count": 22,
   "id": "15c31cae",
   "metadata": {},
   "outputs": [],
   "source": [
    "def available_actions(state):\n",
    "    current_state_row = M[state, ]\n",
    "    av_action = np.where(current_state_row >= 0)[1]\n",
    "    return av_action"
   ]
  },
  {
   "cell_type": "code",
   "execution_count": 23,
   "id": "332dd061",
   "metadata": {},
   "outputs": [],
   "source": [
    "def sample_next_action(available_actions_range):\n",
    "    next_action = int(np.random.choice(available_action, 1))\n",
    "    return next_action"
   ]
  },
  {
   "cell_type": "code",
   "execution_count": 24,
   "id": "fbf10b3c",
   "metadata": {},
   "outputs": [],
   "source": [
    "def collect_environmental_data(action):\n",
    "    found = []\n",
    "    if action in police:\n",
    "        found.append('p')\n",
    "    if action in drug_traces:\n",
    "        found.append('d')\n",
    "    return(found)\n",
    "\n",
    "available_action = available_actions(initial_state)\n",
    "action = sample_next_action(available_action)"
   ]
  },
  {
   "cell_type": "code",
   "execution_count": 25,
   "id": "669b4d06",
   "metadata": {},
   "outputs": [
    {
     "data": {
      "text/plain": [
       "100.0"
      ]
     },
     "execution_count": 25,
     "metadata": {},
     "output_type": "execute_result"
    }
   ],
   "source": [
    "def update(current_state, action, gamma):\n",
    "    max_index = np.where(Q[action, ] == np.max(Q[action, ]))[1]\n",
    "    if max_index.shape[0] > 1:\n",
    "        max_index = int(np.random.choice(max_index, size = 1))\n",
    "    else:\n",
    "        max_index = int(max_index)\n",
    "    max_value = Q[action, max_index]\n",
    "    Q[current_state, action] = M[current_state, action] + gamma + max_value\n",
    "    environment = collect_environmental_data(action)\n",
    "    if 'p' in environment:\n",
    "        env_police[current_state, action] += 1\n",
    "    if 'd' in environment:\n",
    "        env_drugs[current_state, action] += 1\n",
    "    if (np.max(Q) > 0):\n",
    "        return(np.sum(Q / np.max(Q)*100))\n",
    "    else:\n",
    "        return (0)\n",
    "update(initial_state, action, gamma)"
   ]
  },
  {
   "cell_type": "code",
   "execution_count": 26,
   "id": "0338f573",
   "metadata": {},
   "outputs": [],
   "source": [
    "def available_actions_with_env_help(state):\n",
    "    current_state_row = M[state, ]\n",
    "    av_action = np.where(current_state_row >= 0)[1]\n",
    "    \n",
    "    env_pos_row = env_matrix_snap[state, av_action]\n",
    "    if (np.sum(env_pos_row < 0)):\n",
    "        temp_av_action = av_action[np.array(env_pos_row)[0] >= 0]\n",
    "        if len(temp_av_action) > 0:\n",
    "            av_action = temp_av_action\n",
    "    return av_action\n",
    "        "
   ]
  },
  {
   "attachments": {},
   "cell_type": "markdown",
   "id": "848ac7bc",
   "metadata": {},
   "source": [
    "#### Visualizing the environmental metrics "
   ]
  },
  {
   "cell_type": "code",
   "execution_count": 27,
   "id": "d968d7b5",
   "metadata": {},
   "outputs": [],
   "source": [
    "scores = []\n",
    "for i in range(1000):\n",
    "    current_state = np.random.randint(0, int(Q.shape[0]))\n",
    "    available_action = available_actions(current_state)\n",
    "    action = sample_next_action(available_action)\n",
    "    score = update(current_state, action, gamma)"
   ]
  },
  {
   "cell_type": "code",
   "execution_count": 28,
   "id": "06e49b15",
   "metadata": {},
   "outputs": [
    {
     "name": "stdout",
     "output_type": "stream",
     "text": [
      "Police Found\n",
      "[[ 0.  0. 12.  0.  7. 10.  0.  0.  0.  0.  0.]\n",
      " [ 0.  0. 10.  0.  3.  8.  0.  0.  0.  0.  0.]\n",
      " [ 0.  0. 15.  0.  6.  5.  0.  0.  0.  0.  0.]\n",
      " [ 0.  0.  5.  0.  8. 10.  0.  0.  0.  0.  0.]\n",
      " [ 0.  0.  7.  0. 11.  9.  0.  0.  0.  0.  0.]\n",
      " [ 0.  0.  7.  0. 14. 10.  0.  0.  0.  0.  0.]\n",
      " [ 0.  0.  9.  0. 10.  6.  0.  0.  0.  0.  0.]\n",
      " [ 0.  0.  9.  0.  7. 15.  0.  0.  0.  0.  0.]\n",
      " [ 0.  0.  7.  0.  5. 11.  0.  0.  0.  0.  0.]\n",
      " [ 0.  0. 13.  0.  6.  9.  0.  0.  0.  0.  0.]\n",
      " [ 0.  0.  6.  0.  3.  3.  0.  0.  0.  0.  0.]]\n",
      "\n",
      "Drug traces Found\n",
      "[[ 0.  0.  0. 10.  0.  0.  0.  0. 16.  4.  0.]\n",
      " [ 0.  0.  0.  4.  0.  0.  0.  0.  7.  7.  0.]\n",
      " [ 0.  0.  0. 12.  0.  0.  0.  0. 11.  7.  0.]\n",
      " [ 0.  0.  0.  3.  0.  0.  0.  0.  4.  2.  0.]\n",
      " [ 0.  0.  0.  4.  0.  0.  0.  0.  3.  6.  0.]\n",
      " [ 0.  0.  0.  8.  0.  0.  0.  0.  6. 10.  0.]\n",
      " [ 0.  0.  0. 11.  0.  0.  0.  0. 10. 12.  0.]\n",
      " [ 0.  0.  0.  5.  0.  0.  0.  0.  8.  5.  0.]\n",
      " [ 0.  0.  0.  5.  0.  0.  0.  0.  8. 11.  0.]\n",
      " [ 0.  0.  0. 11.  0.  0.  0.  0.  8.  9.  0.]\n",
      " [ 0.  0.  0.  6.  0.  0.  0.  0.  9.  6.  0.]]\n"
     ]
    }
   ],
   "source": [
    "print('Police Found')\n",
    "print(env_police)\n",
    "print('')\n",
    "print('Drug traces Found')\n",
    "print(env_drugs)"
   ]
  },
  {
   "attachments": {},
   "cell_type": "markdown",
   "id": "1be710be",
   "metadata": {},
   "source": [
    "#### Let’s started. We can load the game environment and render what it looks like "
   ]
  },
  {
   "cell_type": "code",
   "execution_count": 29,
   "id": "5a492f6c",
   "metadata": {},
   "outputs": [],
   "source": [
    "env = gym.make('CartPole-v1').env\n",
    "#env.render()"
   ]
  },
  {
   "attachments": {},
   "cell_type": "markdown",
   "id": "54041794",
   "metadata": {},
   "source": [
    "#### Let’s dive more into the environment. "
   ]
  },
  {
   "cell_type": "code",
   "execution_count": 30,
   "id": "8bca37f6",
   "metadata": {},
   "outputs": [
    {
     "name": "stdout",
     "output_type": "stream",
     "text": [
      "Action Space Discrete(2)\n",
      "State Space Box([-4.8000002e+00 -3.4028235e+38 -4.1887903e-01 -3.4028235e+38], [4.8000002e+00 3.4028235e+38 4.1887903e-01 3.4028235e+38], (4,), float32)\n"
     ]
    }
   ],
   "source": [
    "env.reset() \n",
    "#env.render()\n",
    "\n",
    "print('Action Space {}'.format(env.action_space))\n",
    "print('State Space {}'.format(env.observation_space))"
   ]
  },
  {
   "cell_type": "code",
   "execution_count": 31,
   "id": "6d4e0263",
   "metadata": {},
   "outputs": [
    {
     "name": "stdout",
     "output_type": "stream",
     "text": [
      "State: 3\n"
     ]
    }
   ],
   "source": [
    "state = 3  \n",
    "print('State:', state)\n",
    "\n",
    "env.s = state\n",
    "#env.render()"
   ]
  },
  {
   "attachments": {},
   "cell_type": "markdown",
   "id": "8badb364",
   "metadata": {},
   "source": [
    "#### Building the environment"
   ]
  },
  {
   "cell_type": "code",
   "execution_count": 40,
   "id": "a59d6d7b",
   "metadata": {},
   "outputs": [],
   "source": [
    "env = gym.make('FrozenLake8x8-v1')"
   ]
  },
  {
   "attachments": {},
   "cell_type": "markdown",
   "id": "680d19f2",
   "metadata": {},
   "source": [
    "#### Initializing different parameters "
   ]
  },
  {
   "cell_type": "code",
   "execution_count": 41,
   "id": "b1084f37",
   "metadata": {},
   "outputs": [],
   "source": [
    "epsilon = 0.9\n",
    "total_episodes = 10000\n",
    "max_steps = 100\n",
    "alpha = 0.85\n",
    "gamma = 0.95\n",
    "\n",
    "Q = np.zeros((env.observation_space.n, env.action_space.n))"
   ]
  },
  {
   "attachments": {},
   "cell_type": "markdown",
   "id": "92532235",
   "metadata": {},
   "source": [
    "#### Defining utility function to be used in the learning process"
   ]
  },
  {
   "cell_type": "code",
   "execution_count": 42,
   "id": "49e88243",
   "metadata": {},
   "outputs": [],
   "source": [
    "def choose_action(state):\n",
    "    action = 0\n",
    "    if np.random.uniform(0, 1) < epsilon:\n",
    "        action = env.action_space.sample()\n",
    "    else:\n",
    "        action = np.argmax(Q[state, :])\n",
    "    return action\n",
    "\n",
    "def update(state, state2, reward, action, action2):\n",
    "    predict = Q[state, action]\n",
    "    target = reward + gamma * Q[state2, action2]\n",
    "    Q[state, action] = Q[state, action] + alpha * (target - predict)"
   ]
  },
  {
   "attachments": {},
   "cell_type": "markdown",
   "id": "503111e2",
   "metadata": {},
   "source": [
    "#### Training the learning agent"
   ]
  },
  {
   "cell_type": "code",
   "execution_count": 44,
   "id": "fa3f3d77",
   "metadata": {},
   "outputs": [],
   "source": [
    "reward = 0\n",
    "\n",
    "for episode in range(total_episodes):\n",
    "    t = 0\n",
    "    state1 = env.reset()\n",
    "    action1 = choose_action(state1)\n",
    "    \n",
    "    while t < max_steps:\n",
    "        #env.render()\n",
    "        state2, reward, done, info = env.step(action1)\n",
    "        action2 = choose_action(state2)\n",
    "        update(state1, state2, reward, action1, action2)\n",
    "        state1 = state2\n",
    "        action1 = action2\n",
    "        t += 1\n",
    "        reward += 1\n",
    "        if done:\n",
    "            break"
   ]
  },
  {
   "cell_type": "code",
   "execution_count": 45,
   "id": "1203f271",
   "metadata": {},
   "outputs": [
    {
     "name": "stdout",
     "output_type": "stream",
     "text": [
      "Performance :  0.0001\n",
      "[[2.93947657e-04 3.24232067e-03 1.18079536e-03 6.45207029e-04]\n",
      " [4.75755989e-04 1.00120325e-03 7.16064171e-04 4.46304993e-04]\n",
      " [3.02791218e-03 1.37381254e-04 5.62593634e-04 3.69320957e-04]\n",
      " [1.41542425e-03 2.53401258e-03 2.44532676e-03 6.10308474e-04]\n",
      " [4.73532436e-03 1.71660676e-03 3.04852688e-03 6.05253172e-03]\n",
      " [2.32326862e-03 3.43830660e-03 2.26120232e-03 1.60729271e-02]\n",
      " [5.09145247e-03 2.55173410e-03 5.98606232e-03 8.68748830e-04]\n",
      " [5.08589667e-03 4.86252067e-03 6.38616569e-03 4.41138842e-03]\n",
      " [1.99376954e-04 6.87163719e-05 6.15925515e-04 5.09090312e-04]\n",
      " [4.24934273e-04 7.14623211e-04 7.55725516e-04 1.20478721e-03]\n",
      " [2.78659419e-04 1.09165041e-03 6.93015471e-05 1.38018792e-03]\n",
      " [1.48135192e-03 1.33775454e-03 4.09855731e-04 8.34080102e-04]\n",
      " [3.67848824e-03 2.18870147e-02 3.32133585e-03 4.91443711e-03]\n",
      " [8.08419510e-04 4.87028302e-03 5.89190027e-03 1.17540932e-03]\n",
      " [5.57603414e-03 1.02266745e-02 3.95066019e-03 4.67409750e-03]\n",
      " [1.80608585e-02 3.09831225e-03 3.87272666e-03 5.69965924e-03]\n",
      " [3.16723934e-04 1.85647054e-05 1.52231112e-04 7.34615374e-04]\n",
      " [5.15569373e-06 1.14232436e-05 1.06077090e-04 3.44901952e-05]\n",
      " [7.69560973e-06 9.53778087e-07 1.02765857e-06 8.16402290e-05]\n",
      " [0.00000000e+00 0.00000000e+00 0.00000000e+00 0.00000000e+00]\n",
      " [3.38637747e-05 2.15507528e-05 1.24341392e-03 4.03671798e-03]\n",
      " [1.53751799e-03 2.88758248e-03 1.29889129e-02 4.42461075e-03]\n",
      " [2.85698419e-03 7.60423951e-03 6.46949687e-03 1.74052737e-03]\n",
      " [2.12076071e-02 1.58892669e-03 2.26611299e-03 1.88064801e-02]\n",
      " [1.41005698e-05 2.52960714e-06 7.05384542e-06 2.76889495e-05]\n",
      " [1.99736072e-06 4.02315383e-06 4.10661375e-06 2.48682807e-05]\n",
      " [4.29510089e-06 2.38744234e-07 1.43536725e-06 6.98518739e-06]\n",
      " [3.84511883e-06 1.35969241e-07 3.99734555e-08 7.67424776e-09]\n",
      " [4.06891238e-06 1.43794859e-06 1.28350733e-04 1.83332100e-07]\n",
      " [0.00000000e+00 0.00000000e+00 0.00000000e+00 0.00000000e+00]\n",
      " [1.15082650e-04 7.98080625e-03 1.16489498e-02 3.76018601e-05]\n",
      " [4.94183879e-03 2.42436972e-02 3.68776395e-02 5.70006230e-03]\n",
      " [1.56088066e-05 3.46725570e-06 8.69134098e-07 7.66925081e-06]\n",
      " [6.64109079e-06 2.23120509e-06 8.65635836e-06 9.77084065e-06]\n",
      " [1.54202088e-06 2.83834617e-07 6.69116385e-07 1.58817519e-07]\n",
      " [0.00000000e+00 0.00000000e+00 0.00000000e+00 0.00000000e+00]\n",
      " [2.43237260e-07 8.44689642e-06 1.23451807e-05 7.41277534e-05]\n",
      " [6.10646059e-06 2.40037589e-04 1.58208703e-04 4.24043857e-04]\n",
      " [3.88830513e-05 2.58397324e-04 1.98599780e-03 3.21814359e-02]\n",
      " [5.77842811e-01 1.85842001e-02 1.03003330e-02 1.23289709e-02]\n",
      " [1.20151908e-05 3.95727200e-07 2.87341393e-08 5.06491380e-06]\n",
      " [0.00000000e+00 0.00000000e+00 0.00000000e+00 0.00000000e+00]\n",
      " [0.00000000e+00 0.00000000e+00 0.00000000e+00 0.00000000e+00]\n",
      " [4.45595719e-11 4.45777599e-08 2.42784007e-10 2.41470788e-06]\n",
      " [1.15301387e-08 1.27445493e-05 5.05123616e-05 1.35853084e-06]\n",
      " [5.19217171e-04 1.50400836e-06 7.94149450e-09 9.58036737e-06]\n",
      " [0.00000000e+00 0.00000000e+00 0.00000000e+00 0.00000000e+00]\n",
      " [9.82171329e-02 2.77019163e-03 1.20203894e-01 6.93060567e-02]\n",
      " [5.42487471e-08 1.89376835e-08 9.52202110e-07 8.57663135e-08]\n",
      " [0.00000000e+00 0.00000000e+00 0.00000000e+00 0.00000000e+00]\n",
      " [3.84260070e-12 1.11358692e-08 1.50254547e-12 0.00000000e+00]\n",
      " [2.78502905e-12 0.00000000e+00 0.00000000e+00 8.09517835e-12]\n",
      " [0.00000000e+00 0.00000000e+00 0.00000000e+00 0.00000000e+00]\n",
      " [0.00000000e+00 0.00000000e+00 5.44126528e-13 2.74976863e-03]\n",
      " [0.00000000e+00 0.00000000e+00 0.00000000e+00 0.00000000e+00]\n",
      " [2.61749765e-03 9.77853762e-01 1.48743988e-01 1.78739172e-02]\n",
      " [1.29320792e-07 3.78181930e-08 8.99535697e-09 4.63569663e-08]\n",
      " [2.76376326e-08 2.62100634e-08 8.44992487e-09 1.74844351e-08]\n",
      " [1.35920487e-09 2.60330884e-09 1.34144890e-09 7.22522871e-09]\n",
      " [0.00000000e+00 0.00000000e+00 0.00000000e+00 0.00000000e+00]\n",
      " [0.00000000e+00 0.00000000e+00 0.00000000e+00 0.00000000e+00]\n",
      " [0.00000000e+00 0.00000000e+00 0.00000000e+00 2.90734032e-06]\n",
      " [0.00000000e+00 0.00000000e+00 8.50000000e-01 8.50000000e-01]\n",
      " [0.00000000e+00 0.00000000e+00 0.00000000e+00 0.00000000e+00]]\n"
     ]
    }
   ],
   "source": [
    "# Evaluating the performance\n",
    "print (\"Performance : \", reward/total_episodes)\n",
    "\n",
    "# Visualizing the Q-matrix\n",
    "print(Q)"
   ]
  },
  {
   "attachments": {},
   "cell_type": "markdown",
   "id": "e65388f7",
   "metadata": {},
   "source": [
    "---\n",
    "\n",
    "### Kesimpulan\n",
    "\n",
    "\n",
    "\n",
    "Berikan simpulan yang dilakukan dari hasil kerja menggunakan algoritma dan 2 dataset yang\n",
    "dipilih. Simpulan bisa berkisar antara (bisa di modifikasi):\n",
    "\n",
    "    - Simpulan perbandingan dataset\n",
    "    - Hasil akurasi yang diberikan (jika ada dalam modul)\n",
    "    - Hasil perbandingan akurasi antara algoritma (jika ada dalam modul)\n",
    "    - Hasil pemikiran dan observasi akhir dari kerja menurut mahasiswa.\n",
    "\n",
    "---"
   ]
  },
  {
   "cell_type": "code",
   "execution_count": 46,
   "id": "60b9b4ca",
   "metadata": {},
   "outputs": [
    {
     "name": "stdout",
     "output_type": "stream",
     "text": [
      "I certify that this is my own work.\n",
      "Signed by:\n",
      "Name: \t\tRendy Wirawan Tamrin\n",
      "NIM: \t\t00000053580\n",
      "Time-stamp:\t2023-05-27 22:14:33.721988\n"
     ]
    }
   ],
   "source": [
    "# Footer\n",
    "myDate = datetime.datetime.now()\n",
    "print(\"I certify that this is my own work.\")\n",
    "print(\"Signed by:\")\n",
    "print(\"Name: \\t\\t{}\".format(myName))\n",
    "print(\"NIM: \\t\\t{}\".format(myNIM))\n",
    "print(\"Time-stamp:\\t{}\".format(myDate))"
   ]
  },
  {
   "attachments": {},
   "cell_type": "markdown",
   "id": "115e24b4",
   "metadata": {},
   "source": [
    "***\n",
    "\n",
    "### Save the notebook, then convert the notebook to html (by running the next code)."
   ]
  },
  {
   "cell_type": "code",
   "execution_count": 1,
   "id": "1e86341c",
   "metadata": {},
   "outputs": [
    {
     "name": "stderr",
     "output_type": "stream",
     "text": [
      "[NbConvertApp] Converting notebook ./IF540_KelasEL_00000053580_RendyWirawanTamrin_Week12.ipynb to html\n",
      "[NbConvertApp] Writing 810198 bytes to IF540_KelasEL_00000053580_RendyWirawanTamrin_Week12.html\n"
     ]
    }
   ],
   "source": [
    "!jupyter nbconvert --to html \"./IF540_KelasEL_00000053580_RendyWirawanTamrin_Week12.ipynb\" --output-dir=\"./\""
   ]
  }
 ],
 "metadata": {
  "kernelspec": {
   "display_name": "Python 3 (ipykernel)",
   "language": "python",
   "name": "python3"
  },
  "language_info": {
   "codemirror_mode": {
    "name": "ipython",
    "version": 3
   },
   "file_extension": ".py",
   "mimetype": "text/x-python",
   "name": "python",
   "nbconvert_exporter": "python",
   "pygments_lexer": "ipython3",
   "version": "3.10.4"
  }
 },
 "nbformat": 4,
 "nbformat_minor": 5
}
